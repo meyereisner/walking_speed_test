{
 "cells": [
  {
   "cell_type": "code",
   "execution_count": null,
   "metadata": {},
   "outputs": [],
   "source": [
    "# Import nessacary libraries\n",
    "\n",
    "import random\n",
    "import pandas as pd\n",
    "import numpy as np\n",
    "from scipy import stats\n",
    "from plotnine import *"
   ]
  },
  {
   "cell_type": "code",
   "execution_count": null,
   "metadata": {},
   "outputs": [
    {
     "ename": "PermissionError",
     "evalue": "[Errno 13] Permission denied: 'Walking_Data.xlsx'",
     "output_type": "error",
     "traceback": [
      "\u001b[1;31m---------------------------------------------------------------------------\u001b[0m",
      "\u001b[1;31mPermissionError\u001b[0m                           Traceback (most recent call last)",
      "Cell \u001b[1;32mIn[27], line 3\u001b[0m\n\u001b[0;32m      1\u001b[0m \u001b[38;5;66;03m# Import the dataset\u001b[39;00m\n\u001b[0;32m      2\u001b[0m \u001b[38;5;66;03m# r\"c:\\Users\\meisn\\OneDrive\\Documents\\Personal_Projects\\Walking_Speed_Test\\Walking_Data.xlsx\"\u001b[39;00m\n\u001b[1;32m----> 3\u001b[0m walking_data \u001b[38;5;241m=\u001b[39m \u001b[43mpd\u001b[49m\u001b[38;5;241;43m.\u001b[39;49m\u001b[43mread_excel\u001b[49m\u001b[43m(\u001b[49m\u001b[38;5;124;43m\"\u001b[39;49m\u001b[38;5;124;43mWalking_Data.xlsx\u001b[39;49m\u001b[38;5;124;43m\"\u001b[39;49m\u001b[43m)\u001b[49m \n\u001b[0;32m      4\u001b[0m music_times \u001b[38;5;241m=\u001b[39m walking_data\u001b[38;5;241m.\u001b[39mquery(\u001b[38;5;124m\"\u001b[39m\u001b[38;5;124mMusic == \u001b[39m\u001b[38;5;124m'\u001b[39m\u001b[38;5;124mYes\u001b[39m\u001b[38;5;124m'\u001b[39m\u001b[38;5;124m\"\u001b[39m)[\u001b[38;5;124m'\u001b[39m\u001b[38;5;124mTime (in seconds)\u001b[39m\u001b[38;5;124m'\u001b[39m]\n\u001b[0;32m      5\u001b[0m no_music_times \u001b[38;5;241m=\u001b[39m walking_data\u001b[38;5;241m.\u001b[39mquery(\u001b[38;5;124m\"\u001b[39m\u001b[38;5;124mMusic == \u001b[39m\u001b[38;5;124m'\u001b[39m\u001b[38;5;124mNo\u001b[39m\u001b[38;5;124m'\u001b[39m\u001b[38;5;124m\"\u001b[39m)[\u001b[38;5;124m'\u001b[39m\u001b[38;5;124mTime (in seconds)\u001b[39m\u001b[38;5;124m'\u001b[39m]\n",
      "File \u001b[1;32mc:\\Users\\meisn\\AppData\\Local\\Programs\\Python\\Python311\\Lib\\site-packages\\pandas\\io\\excel\\_base.py:495\u001b[0m, in \u001b[0;36mread_excel\u001b[1;34m(io, sheet_name, header, names, index_col, usecols, dtype, engine, converters, true_values, false_values, skiprows, nrows, na_values, keep_default_na, na_filter, verbose, parse_dates, date_parser, date_format, thousands, decimal, comment, skipfooter, storage_options, dtype_backend, engine_kwargs)\u001b[0m\n\u001b[0;32m    493\u001b[0m \u001b[38;5;28;01mif\u001b[39;00m \u001b[38;5;129;01mnot\u001b[39;00m \u001b[38;5;28misinstance\u001b[39m(io, ExcelFile):\n\u001b[0;32m    494\u001b[0m     should_close \u001b[38;5;241m=\u001b[39m \u001b[38;5;28;01mTrue\u001b[39;00m\n\u001b[1;32m--> 495\u001b[0m     io \u001b[38;5;241m=\u001b[39m \u001b[43mExcelFile\u001b[49m\u001b[43m(\u001b[49m\n\u001b[0;32m    496\u001b[0m \u001b[43m        \u001b[49m\u001b[43mio\u001b[49m\u001b[43m,\u001b[49m\n\u001b[0;32m    497\u001b[0m \u001b[43m        \u001b[49m\u001b[43mstorage_options\u001b[49m\u001b[38;5;241;43m=\u001b[39;49m\u001b[43mstorage_options\u001b[49m\u001b[43m,\u001b[49m\n\u001b[0;32m    498\u001b[0m \u001b[43m        \u001b[49m\u001b[43mengine\u001b[49m\u001b[38;5;241;43m=\u001b[39;49m\u001b[43mengine\u001b[49m\u001b[43m,\u001b[49m\n\u001b[0;32m    499\u001b[0m \u001b[43m        \u001b[49m\u001b[43mengine_kwargs\u001b[49m\u001b[38;5;241;43m=\u001b[39;49m\u001b[43mengine_kwargs\u001b[49m\u001b[43m,\u001b[49m\n\u001b[0;32m    500\u001b[0m \u001b[43m    \u001b[49m\u001b[43m)\u001b[49m\n\u001b[0;32m    501\u001b[0m \u001b[38;5;28;01melif\u001b[39;00m engine \u001b[38;5;129;01mand\u001b[39;00m engine \u001b[38;5;241m!=\u001b[39m io\u001b[38;5;241m.\u001b[39mengine:\n\u001b[0;32m    502\u001b[0m     \u001b[38;5;28;01mraise\u001b[39;00m \u001b[38;5;167;01mValueError\u001b[39;00m(\n\u001b[0;32m    503\u001b[0m         \u001b[38;5;124m\"\u001b[39m\u001b[38;5;124mEngine should not be specified when passing \u001b[39m\u001b[38;5;124m\"\u001b[39m\n\u001b[0;32m    504\u001b[0m         \u001b[38;5;124m\"\u001b[39m\u001b[38;5;124man ExcelFile - ExcelFile already has the engine set\u001b[39m\u001b[38;5;124m\"\u001b[39m\n\u001b[0;32m    505\u001b[0m     )\n",
      "File \u001b[1;32mc:\\Users\\meisn\\AppData\\Local\\Programs\\Python\\Python311\\Lib\\site-packages\\pandas\\io\\excel\\_base.py:1550\u001b[0m, in \u001b[0;36mExcelFile.__init__\u001b[1;34m(self, path_or_buffer, engine, storage_options, engine_kwargs)\u001b[0m\n\u001b[0;32m   1548\u001b[0m     ext \u001b[38;5;241m=\u001b[39m \u001b[38;5;124m\"\u001b[39m\u001b[38;5;124mxls\u001b[39m\u001b[38;5;124m\"\u001b[39m\n\u001b[0;32m   1549\u001b[0m \u001b[38;5;28;01melse\u001b[39;00m:\n\u001b[1;32m-> 1550\u001b[0m     ext \u001b[38;5;241m=\u001b[39m \u001b[43minspect_excel_format\u001b[49m\u001b[43m(\u001b[49m\n\u001b[0;32m   1551\u001b[0m \u001b[43m        \u001b[49m\u001b[43mcontent_or_path\u001b[49m\u001b[38;5;241;43m=\u001b[39;49m\u001b[43mpath_or_buffer\u001b[49m\u001b[43m,\u001b[49m\u001b[43m \u001b[49m\u001b[43mstorage_options\u001b[49m\u001b[38;5;241;43m=\u001b[39;49m\u001b[43mstorage_options\u001b[49m\n\u001b[0;32m   1552\u001b[0m \u001b[43m    \u001b[49m\u001b[43m)\u001b[49m\n\u001b[0;32m   1553\u001b[0m     \u001b[38;5;28;01mif\u001b[39;00m ext \u001b[38;5;129;01mis\u001b[39;00m \u001b[38;5;28;01mNone\u001b[39;00m:\n\u001b[0;32m   1554\u001b[0m         \u001b[38;5;28;01mraise\u001b[39;00m \u001b[38;5;167;01mValueError\u001b[39;00m(\n\u001b[0;32m   1555\u001b[0m             \u001b[38;5;124m\"\u001b[39m\u001b[38;5;124mExcel file format cannot be determined, you must specify \u001b[39m\u001b[38;5;124m\"\u001b[39m\n\u001b[0;32m   1556\u001b[0m             \u001b[38;5;124m\"\u001b[39m\u001b[38;5;124man engine manually.\u001b[39m\u001b[38;5;124m\"\u001b[39m\n\u001b[0;32m   1557\u001b[0m         )\n",
      "File \u001b[1;32mc:\\Users\\meisn\\AppData\\Local\\Programs\\Python\\Python311\\Lib\\site-packages\\pandas\\io\\excel\\_base.py:1402\u001b[0m, in \u001b[0;36minspect_excel_format\u001b[1;34m(content_or_path, storage_options)\u001b[0m\n\u001b[0;32m   1399\u001b[0m \u001b[38;5;28;01mif\u001b[39;00m \u001b[38;5;28misinstance\u001b[39m(content_or_path, \u001b[38;5;28mbytes\u001b[39m):\n\u001b[0;32m   1400\u001b[0m     content_or_path \u001b[38;5;241m=\u001b[39m BytesIO(content_or_path)\n\u001b[1;32m-> 1402\u001b[0m \u001b[38;5;28;01mwith\u001b[39;00m \u001b[43mget_handle\u001b[49m\u001b[43m(\u001b[49m\n\u001b[0;32m   1403\u001b[0m \u001b[43m    \u001b[49m\u001b[43mcontent_or_path\u001b[49m\u001b[43m,\u001b[49m\u001b[43m \u001b[49m\u001b[38;5;124;43m\"\u001b[39;49m\u001b[38;5;124;43mrb\u001b[39;49m\u001b[38;5;124;43m\"\u001b[39;49m\u001b[43m,\u001b[49m\u001b[43m \u001b[49m\u001b[43mstorage_options\u001b[49m\u001b[38;5;241;43m=\u001b[39;49m\u001b[43mstorage_options\u001b[49m\u001b[43m,\u001b[49m\u001b[43m \u001b[49m\u001b[43mis_text\u001b[49m\u001b[38;5;241;43m=\u001b[39;49m\u001b[38;5;28;43;01mFalse\u001b[39;49;00m\n\u001b[0;32m   1404\u001b[0m \u001b[43m\u001b[49m\u001b[43m)\u001b[49m \u001b[38;5;28;01mas\u001b[39;00m handle:\n\u001b[0;32m   1405\u001b[0m     stream \u001b[38;5;241m=\u001b[39m handle\u001b[38;5;241m.\u001b[39mhandle\n\u001b[0;32m   1406\u001b[0m     stream\u001b[38;5;241m.\u001b[39mseek(\u001b[38;5;241m0\u001b[39m)\n",
      "File \u001b[1;32mc:\\Users\\meisn\\AppData\\Local\\Programs\\Python\\Python311\\Lib\\site-packages\\pandas\\io\\common.py:882\u001b[0m, in \u001b[0;36mget_handle\u001b[1;34m(path_or_buf, mode, encoding, compression, memory_map, is_text, errors, storage_options)\u001b[0m\n\u001b[0;32m    873\u001b[0m         handle \u001b[38;5;241m=\u001b[39m \u001b[38;5;28mopen\u001b[39m(\n\u001b[0;32m    874\u001b[0m             handle,\n\u001b[0;32m    875\u001b[0m             ioargs\u001b[38;5;241m.\u001b[39mmode,\n\u001b[1;32m   (...)\u001b[0m\n\u001b[0;32m    878\u001b[0m             newline\u001b[38;5;241m=\u001b[39m\u001b[38;5;124m\"\u001b[39m\u001b[38;5;124m\"\u001b[39m,\n\u001b[0;32m    879\u001b[0m         )\n\u001b[0;32m    880\u001b[0m     \u001b[38;5;28;01melse\u001b[39;00m:\n\u001b[0;32m    881\u001b[0m         \u001b[38;5;66;03m# Binary mode\u001b[39;00m\n\u001b[1;32m--> 882\u001b[0m         handle \u001b[38;5;241m=\u001b[39m \u001b[38;5;28;43mopen\u001b[39;49m\u001b[43m(\u001b[49m\u001b[43mhandle\u001b[49m\u001b[43m,\u001b[49m\u001b[43m \u001b[49m\u001b[43mioargs\u001b[49m\u001b[38;5;241;43m.\u001b[39;49m\u001b[43mmode\u001b[49m\u001b[43m)\u001b[49m\n\u001b[0;32m    883\u001b[0m     handles\u001b[38;5;241m.\u001b[39mappend(handle)\n\u001b[0;32m    885\u001b[0m \u001b[38;5;66;03m# Convert BytesIO or file objects passed with an encoding\u001b[39;00m\n",
      "\u001b[1;31mPermissionError\u001b[0m: [Errno 13] Permission denied: 'Walking_Data.xlsx'"
     ]
    }
   ],
   "source": [
    "# Import the dataset\n",
    "\n",
    "walking_data = pd.read_excel(\"Walking_Data.xlsx\") \n",
    "music_times = walking_data.query(\"Music == 'Yes'\")['Time (in seconds)']\n",
    "no_music_times = walking_data.query(\"Music == 'No'\")['Time (in seconds)']\n",
    "walking_data[\"Time (in minutes)\"] = walking_data[\"Time (in minutes)\"].dt.total_seconds() / 60\n",
    "walking_data"
   ]
  },
  {
   "cell_type": "code",
   "execution_count": null,
   "metadata": {},
   "outputs": [],
   "source": [
    "# Function that converts minutes as a decimal, to the mm:ss format. Example: 10.8 minutes becomes 10:48\n",
    "\n",
    "def min_to_mmss(ticks): \n",
    "\n",
    "    labels = []\n",
    "    for m in ticks:\n",
    "        minutes = int(m)\n",
    "        seconds = int(round((m - minutes) * 60))\n",
    "        labels.append(f\"{minutes}:{seconds:02d}\")\n",
    "    return labels\n",
    "\n",
    "# Create the box and whisker plot\n",
    "\n",
    "(\n",
    "    ggplot(walking_data, aes('Music', 'Time (in minutes)'))      \n",
    "    + geom_boxplot(width=0.5, outlier_alpha=0.5)\n",
    "    + scale_y_continuous(\n",
    "          name='Time (mm:ss)',\n",
    "          labels=min_to_mmss,           \n",
    "          breaks=[9.5, 9.75,10.0, 10.25, 10.5, 10.75, 11.0]  \n",
    "      )\n",
    "    + labs(title='Walk Times With and Without Music', x='')\n",
    "    + theme_bw()\n",
    ")"
   ]
  },
  {
   "cell_type": "code",
   "execution_count": 18,
   "metadata": {},
   "outputs": [
    {
     "name": "stdout",
     "output_type": "stream",
     "text": [
      "n music: 20\n",
      "avg music: 593.93\n",
      "sd music: 17.6\n",
      "var music: 309.77\n",
      "n no music: 20\n",
      "avg no music: 633.19\n",
      "sd no music: 21.48\n",
      "var no music: 461.2\n"
     ]
    }
   ],
   "source": [
    "# Declare nessacary info for test stat and degrees of freedom\n",
    "\n",
    "n_music = len(music_times)\n",
    "avg_music = music_times.mean()\n",
    "sd_music = music_times.std(ddof=1)\n",
    "var_music = sd_music**2\n",
    "n_no_music = len(no_music_times)\n",
    "avg_no_music = no_music_times.mean()\n",
    "sd_no_music = no_music_times.std(ddof=1)\n",
    "var_no_music = sd_no_music**2\n",
    "\n",
    "print(\n",
    "    f\"n music: {n_music}\",\n",
    "    f\"avg music: {round(avg_music, 2)}\",\n",
    "    f\"sd music: {round(sd_music, 2)}\",\n",
    "    f\"var music: {round(var_music, 2)}\",\n",
    "    f\"n no music: {n_no_music}\",\n",
    "    f\"avg no music: {round(avg_no_music, 2)}\",\n",
    "    f\"sd no music: {round(sd_no_music, 2)}\",\n",
    "    f\"var no music: {round(var_no_music, 2)}\",\n",
    "    sep=\"\\n\"\n",
    ")"
   ]
  },
  {
   "cell_type": "code",
   "execution_count": 26,
   "metadata": {},
   "outputs": [
    {
     "name": "stdout",
     "output_type": "stream",
     "text": [
      "Test Statistic: -6.32\n",
      "Degrees of Freedom: 37\n",
      "Retainment Region: [-2.43, inf)\n",
      "P-value: 1.1990871285973633e-07\n"
     ]
    }
   ],
   "source": [
    "# Declare our alpha, test stat, ret reg, and p-value\n",
    "\n",
    "alpha = .01\n",
    "test_stat = (avg_music - avg_no_music)/np.sqrt((var_music/n_music) + (var_no_music/n_no_music))\n",
    "df = ((var_music / n_music) + (var_no_music / n_no_music))**2 \\\n",
    "           / ((var_music / n_music)**2 / (n_music - 1)\n",
    "              + (var_no_music / n_no_music)**2 / (n_no_music - 1))\n",
    "ret_reg = stats.t.ppf(alpha, df) \n",
    "pval = stats.t.cdf(test_stat, df)\n",
    "\n",
    "print(f\"Test Statistic: {round(test_stat, 2)}\",\n",
    "      f\"Degrees of Freedom: {round(df)}\",\n",
    "      f\"Retainment Region: [{round(ret_reg, 2)}, inf)\", \n",
    "      f\"P-value: {pval}\",\n",
    "      sep=\"\\n\")   "
   ]
  },
  {
   "cell_type": "code",
   "execution_count": 24,
   "metadata": {},
   "outputs": [
    {
     "name": "stdout",
     "output_type": "stream",
     "text": [
      "Our test stat of -6.32 does not fall in our retainment region of [-2.43, inf) so we reject H_0 that I walk the same speed listening to music and not listening to music.\n"
     ]
    }
   ],
   "source": [
    "# Run the test H_0: walking time with music = walking time without music\n",
    "\n",
    "if test_stat <= ret_reg:\n",
    "    print(f\"Our test stat of {round(test_stat, 2)} does not fall in our retainment region of [{round(ret_reg, 2)}, inf) so we reject H_0 that I walk the same speed listening to music and not listening to music.\")\n",
    "else:\n",
    "    print(f\"Our test stat of {round(test_stat, 2)} falls in our retainment region of [{round(ret_reg, 2)}, inf) so we retain H_0 that I walk the same speed listening to music and not listening to music.\")\n"
   ]
  },
  {
   "cell_type": "code",
   "execution_count": null,
   "metadata": {},
   "outputs": [],
   "source": [
    "# p-value method for good measure\n",
    "\n",
    "if pval <= alpha:\n",
    "    print(f\"Our Pvalue is {pval} which is less than our alpha of {alpha}, so we reject the null hypothesis that I walk the same speed listening to music and not listening to music.\")\n",
    "else:\n",
    "    print(f\"Our Pvalue is {pval} which is greater than our alpha of {alpha}, so we retain the null hypothesis that I walk the same speed listening to music and not listening to music.\")\n"
   ]
  },
  {
   "cell_type": "code",
   "execution_count": null,
   "metadata": {},
   "outputs": [],
   "source": [
    "# Bootstrap\n",
    "\n",
    "random.seed(7902)\n",
    "B = 10_000\n",
    "boot_mean_diffs = []\n",
    "\n",
    "for b in range(B):\n",
    "    avg_music_boot_samples = np.mean(np.random.choice(music_times, size = n_music, replace = True)) # Sample times from the music group\n",
    "    avg_no_music_boot_samples = np.mean(np.random.choice(no_music_times, size = n_no_music, replace = True)) # Sample times from the no muisc group\n",
    "    boot_mean_diffs.append(avg_music_boot_samples - avg_no_music_boot_samples) # Get 10,000 \"test statistics\" of avg1 - avg2 which we can collect inference from\n",
    "\n",
    "# Get the quantiles\n",
    "q_low = np.quantile(boot_mean_diffs, alpha/2)\n",
    "q_high = np.quantile(boot_mean_diffs, 1-alpha/2)\n",
    "\n",
    "df_boot = pd.DataFrame({'boot_mean_sec': boot_mean_diffs}) # Store the list with the bootstrapped mean differences as a data frame\n",
    "\n",
    "# Plot the emperical sampling distribution \n",
    "\n",
    "(\n",
    "    ggplot(df_boot, aes(x='boot_mean_sec')) \n",
    "    + geom_histogram(bins=100)\n",
    "    + geom_vline(xintercept = q_low, linetype='dashed', color='red')\n",
    "    + geom_vline(xintercept = q_high, linetype='dashed', color='red')\n",
    "    + labs(\n",
    "        title='Bootstrap Distribution of Difference in Mean Walk Time',\n",
    "        x='Bootstrapped Difference in Means (seconds)',\n",
    "        y='Count'\n",
    "      )\n",
    "    + theme_bw()\n",
    ")\n"
   ]
  }
 ],
 "metadata": {
  "kernelspec": {
   "display_name": "Python 3",
   "language": "python",
   "name": "python3"
  },
  "language_info": {
   "codemirror_mode": {
    "name": "ipython",
    "version": 3
   },
   "file_extension": ".py",
   "mimetype": "text/x-python",
   "name": "python",
   "nbconvert_exporter": "python",
   "pygments_lexer": "ipython3",
   "version": "3.11.3"
  }
 },
 "nbformat": 4,
 "nbformat_minor": 2
}
