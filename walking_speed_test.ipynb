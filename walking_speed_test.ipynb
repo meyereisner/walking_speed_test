{
 "cells": [
  {
   "cell_type": "code",
   "execution_count": null,
   "metadata": {},
   "outputs": [],
   "source": [
    "# Import nessacary libraries\n",
    "\n",
    "import random\n",
    "import pandas as pd\n",
    "import numpy as np\n",
    "from scipy import stats\n",
    "from plotnine import *"
   ]
  },
  {
   "cell_type": "code",
   "execution_count": null,
   "metadata": {},
   "outputs": [],
   "source": [
    "# Import the dataset\n",
    "\n",
    "walking_data = pd.read_excel(\"Walking_Data.xlsx\") \n",
    "music_times = walking_data.query(\"Music == 'Yes'\")['Time (in seconds)']\n",
    "no_music_times = walking_data.query(\"Music == 'No'\")['Time (in seconds)']\n",
    "walking_data[\"Time (in minutes)\"] = walking_data[\"Time (in minutes)\"].dt.total_seconds() / 60\n",
    "walking_data"
   ]
  },
  {
   "cell_type": "code",
   "execution_count": null,
   "metadata": {},
   "outputs": [],
   "source": [
    "# Function that converts minutes as a decimal, to the mm:ss format. Example: 10.8 minutes becomes 10:48\n",
    "\n",
    "def min_to_mmss(ticks): \n",
    "\n",
    "    labels = []\n",
    "    for m in ticks:\n",
    "        minutes = int(m)\n",
    "        seconds = int(round((m - minutes) * 60))\n",
    "        labels.append(f\"{minutes}:{seconds:02d}\")\n",
    "    return labels\n",
    "\n",
    "# Create the box and whisker plot\n",
    "\n",
    "(\n",
    "    ggplot(walking_data, aes('Music', 'Time (in minutes)'))      \n",
    "    + geom_boxplot(width=0.5, outlier_alpha=0.5)\n",
    "    + scale_y_continuous(\n",
    "          name='Time (mm:ss)',\n",
    "          labels=min_to_mmss,           \n",
    "          breaks=[9.5, 9.75,10.0, 10.25, 10.5, 10.75, 11.0]  \n",
    "      )\n",
    "    + labs(title='Walk Times With and Without Music', x='')\n",
    "    + theme_bw()\n",
    ")"
   ]
  },
  {
   "cell_type": "code",
   "execution_count": null,
   "metadata": {},
   "outputs": [],
   "source": [
    "# Declare nessacary info for test stat and degrees of freedom\n",
    "\n",
    "n_music = len(music_times)\n",
    "avg_music = music_times.mean()\n",
    "sd_music = music_times.std(ddof=1)\n",
    "var_music = sd_music**2\n",
    "n_no_music = len(no_music_times)\n",
    "avg_no_music = no_music_times.mean()\n",
    "sd_no_music = no_music_times.std(ddof=1)\n",
    "var_no_music = sd_no_music**2\n",
    "\n",
    "print(\n",
    "    f\"n music: {n_music}\",\n",
    "    f\"avg music: {round(avg_music, 2)}\",\n",
    "    f\"sd music: {round(sd_music, 2)}\",\n",
    "    f\"var music: {round(var_music, 2)}\",\n",
    "    f\"n no music: {n_no_music}\",\n",
    "    f\"avg no music: {round(avg_no_music, 2)}\",\n",
    "    f\"sd no music: {round(sd_no_music, 2)}\",\n",
    "    f\"var no music: {round(var_no_music, 2)}\",\n",
    "    sep=\"\\n\"\n",
    ")"
   ]
  },
  {
   "cell_type": "code",
   "execution_count": null,
   "metadata": {},
   "outputs": [],
   "source": [
    "# Declare our alpha, test stat, ret reg, and p-value\n",
    "\n",
    "alpha = .01\n",
    "test_stat = (avg_music - avg_no_music)/np.sqrt((var_music/n_music) + (var_no_music/n_no_music))\n",
    "df = ((var_music / n_music) + (var_no_music / n_no_music))**2 \\\n",
    "           / ((var_music / n_music)**2 / (n_music - 1)\n",
    "              + (var_no_music / n_no_music)**2 / (n_no_music - 1))\n",
    "ret_reg = stats.t.ppf(alpha, df) \n",
    "pval = stats.t.cdf(test_stat, df)\n",
    "\n",
    "print(f\"Test Statistic: {round(test_stat, 2)}\",\n",
    "      f\"Degrees of Freedom: {round(df)}\",\n",
    "      f\"Retainment Region: [{round(ret_reg, 2)}, inf)\", \n",
    "      f\"P-value: {pval}\",\n",
    "      sep=\"\\n\")   "
   ]
  },
  {
   "cell_type": "code",
   "execution_count": null,
   "metadata": {},
   "outputs": [],
   "source": [
    "# Run the test H_0: walking time with music = walking time without music\n",
    "\n",
    "if test_stat <= ret_reg:\n",
    "    print(f\"Our test stat of {round(test_stat, 2)} does not fall in our retainment region of [{round(ret_reg, 2)}, inf) so we reject H_0 that I walk the same speed listening to music and not listening to music.\")\n",
    "else:\n",
    "    print(f\"Our test stat of {round(test_stat, 2)} falls in our retainment region of [{round(ret_reg, 2)}, inf) so we retain H_0 that I walk the same speed listening to music and not listening to music.\")\n"
   ]
  },
  {
   "cell_type": "code",
   "execution_count": null,
   "metadata": {},
   "outputs": [],
   "source": [
    "# p-value method for good measure\n",
    "\n",
    "if pval <= alpha:\n",
    "    print(f\"Our Pvalue is {pval} which is less than our alpha of {alpha}, so we reject the null hypothesis that I walk the same speed listening to music and not listening to music.\")\n",
    "else:\n",
    "    print(f\"Our Pvalue is {pval} which is greater than our alpha of {alpha}, so we retain the null hypothesis that I walk the same speed listening to music and not listening to music.\")\n"
   ]
  },
  {
   "cell_type": "code",
   "execution_count": null,
   "metadata": {},
   "outputs": [],
   "source": [
    "# Bootstrap\n",
    "\n",
    "random.seed(7902)\n",
    "B = 10_000\n",
    "boot_mean_diffs = []\n",
    "\n",
    "for b in range(B):\n",
    "    avg_music_boot_samples = np.mean(np.random.choice(music_times, size = n_music, replace = True)) # Sample times from the music group\n",
    "    avg_no_music_boot_samples = np.mean(np.random.choice(no_music_times, size = n_no_music, replace = True)) # Sample times from the no muisc group\n",
    "    boot_mean_diffs.append(avg_music_boot_samples - avg_no_music_boot_samples) # Get 10,000 \"test statistics\" of avg1 - avg2 which we can collect inference from\n",
    "\n",
    "# Get the quantiles\n",
    "q_low = np.quantile(boot_mean_diffs, alpha/2)\n",
    "q_high = np.quantile(boot_mean_diffs, 1-alpha/2)\n",
    "\n",
    "df_boot = pd.DataFrame({'boot_mean_sec': boot_mean_diffs}) # Store the list with the bootstrapped mean differences as a data frame\n",
    "\n",
    "# Plot the emperical sampling distribution \n",
    "\n",
    "(\n",
    "    ggplot(df_boot, aes(x='boot_mean_sec')) \n",
    "    + geom_histogram(bins=100)\n",
    "    + geom_vline(xintercept = q_low, linetype='dashed', color='red')\n",
    "    + geom_vline(xintercept = q_high, linetype='dashed', color='red')\n",
    "    + labs(\n",
    "        title='Bootstrap Distribution of Difference in Mean Walk Time',\n",
    "        x='Bootstrapped Difference in Means (seconds)',\n",
    "        y='Count'\n",
    "      )\n",
    "    + theme_bw()\n",
    ")\n"
   ]
  }
 ],
 "metadata": {
  "kernelspec": {
   "display_name": "Python 3",
   "language": "python",
   "name": "python3"
  },
  "language_info": {
   "codemirror_mode": {
    "name": "ipython",
    "version": 3
   },
   "file_extension": ".py",
   "mimetype": "text/x-python",
   "name": "python",
   "nbconvert_exporter": "python",
   "pygments_lexer": "ipython3",
   "version": "3.11.3"
  }
 },
 "nbformat": 4,
 "nbformat_minor": 2
}
